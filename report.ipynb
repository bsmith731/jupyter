columns = ['Analyzed','Dispositioned','Decommed','Migrated']

# analyzed, disp, decom, migrated
jan = [0,0,0,0]
feb = [10,3,1,1]
march = [20,6,4,3]
data = [jan,feb,march]

months = ['Jan.', 'Feb.', 'Mar.']

x = [0,1,2]
y = [0,1,2,3]

import numpy as np
from mpl_toolkits.mplot3d import Axes3D # This import has side effects required for the kwarg projection='3d' in the call to fig.add_subplot
import matplotlib.pyplot as plt
import random
%matplotlib notebook

def fun(x, y):
  return data[x][y]

fig = plt.figure()
ax = fig.add_subplot(111, projection='3d')
x = y = np.arange(0, 3, 1)
X, Y = np.meshgrid(x, y)
zs = np.array([fun(x,y) for x,y in zip(np.ravel(X), np.ravel(Y))])
Z = zs.reshape(X.shape)

ax.plot_surface(X, Y, Z)

ax.set_xlabel('')
ax.set_ylabel('')
ax.set_zlabel('Total')

plt.xticks(x, months, rotation='vertical')
plt.yticks(y, columns, rotation='vertical')
plt.show()
